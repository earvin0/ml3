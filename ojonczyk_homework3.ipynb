{
 "cells": [
  {
   "cell_type": "markdown",
   "metadata": {},
   "source": [
    "# Homework 3\n",
    "\n",
    "- Implement the ridge regression algorithm through a gradient descent algorithm\n",
    "- apply it to a regression problem (with at least 10 predictors) for a chosen dataset\n",
    "- optimize the choice of lambda with R^2 and cross-validation \n",
    "- check the accuracy of the final prediction on the test part of the data set.\n",
    "- compare to a result of a simple linear regression fit\n",
    "- comment on the results"
   ]
  },
  {
   "cell_type": "code",
   "execution_count": 20,
   "metadata": {},
   "outputs": [],
   "source": [
    "import numpy as np\n",
    "from sklearn.model_selection import GridSearchCV,cross_val_score\n",
    "from sklearn.metrics import mean_absolute_error, classification_report,accuracy_score,r2_score\n",
    "from sklearn.preprocessing import scale\n",
    "from sklearn.model_selection import train_test_split\n",
    "from sklearn.linear_model import LinearRegression,Ridge\n",
    "\n",
    "import matplotlib\n",
    "import matplotlib.pyplot as plt\n",
    "import matplotlib.cm as cmx\n",
    "import matplotlib.colors as colors\n",
    "plt.rcParams['axes.labelsize'] = 14\n",
    "plt.rcParams['xtick.labelsize'] = 12\n",
    "plt.rcParams['ytick.labelsize'] = 12\n",
    "plt.rcParams['figure.figsize']=12,10"
   ]
  },
  {
   "cell_type": "code",
   "execution_count": 34,
   "metadata": {},
   "outputs": [],
   "source": [
    "Xy = np.loadtxt(\"winequality-white.csv\", delimiter=\";\", skiprows=1)\n",
    "X = Xy[:, 0:-1]\n",
    "X = scale(X)\n",
    "\n",
    "y = Xy[:, -1]\n",
    "y = scale(y)\n",
    "\n",
    "np.random.seed(0)\n",
    "X_train, X_test, y_train, y_test = train_test_split(X, y, test_size=0.2)"
   ]
  },
  {
   "cell_type": "code",
   "execution_count": 35,
   "metadata": {},
   "outputs": [
    {
     "name": "stdout",
     "output_type": "stream",
     "text": [
      "[[ 4.09124986e-01 -1.80991745e-01 -1.17277959e-01 ...  2.76406991e-01\n",
      "   1.34184656e-03 -1.15945603e-02]\n",
      " [-1.72412724e+00  1.16673788e-01  3.78559282e-01 ...  6.07565312e-01\n",
      "  -1.13786799e+00  1.53249956e+00]\n",
      " [-4.20473102e-01  1.80344514e+00 -1.99917499e-01 ...  4.75101984e-01\n",
      "   9.65288632e-01  8.01086557e-01]\n",
      " ...\n",
      " [ 1.23872307e+00  5.13561164e-01 -4.47836120e-01 ... -2.53446321e-01\n",
      "  -9.62604939e-01 -1.39315246e+00]\n",
      " [ 2.42386320e+00 -1.80991745e-01 -3.46384190e-02 ... -3.85909649e-01\n",
      "  -2.61552731e-01  2.32209775e-01]\n",
      " [ 1.23872307e+00  2.29955436e+00  4.80011213e-02 ... -6.50836305e-01\n",
      "   1.76604898e-01 -4.17935119e-01]]\n",
      "(3918, 11)\n"
     ]
    }
   ],
   "source": [
    "print(X_train)\n",
    "print(X_train.shape)"
   ]
  },
  {
   "cell_type": "code",
   "execution_count": 36,
   "metadata": {},
   "outputs": [],
   "source": [
    "class RidgeRegression(object):\n",
    "    def __init__(self, lmbda=0.1):\n",
    "        self.lmbda = lmbda\n",
    "\n",
    "    def fit(self, X, y):\n",
    "        C = X.T.dot(X) + self.lmbda*np.eye(X.shape[1])\n",
    "        self.w = np.linalg.inv(C).dot(X.T.dot(y))\n",
    "\n",
    "    def predict(self, X):\n",
    "        return X.dot(self.w)\n",
    "\n",
    "    def get_params(self, deep=True):\n",
    "        return {\"lmbda\": self.lmbda}\n",
    "\n",
    "    def set_params(self, lmbda=0.1):\n",
    "        self.lmbda = lmbda\n",
    "        return self"
   ]
  },
  {
   "cell_type": "code",
   "execution_count": 106,
   "metadata": {},
   "outputs": [],
   "source": [
    "class RidgeRegressionWithGrad(object):\n",
    "    def __init__(self, lmbda=0.01):\n",
    "        self.lmbda = lmbda\n",
    "        self.lr = 0.001\n",
    "        self.error_margin = 0.0001\n",
    "        self.r2 = 1\n",
    "\n",
    "    def fit(self, X, y):\n",
    "        self.b0 = np.random.uniform(-1.0,1.0)\n",
    "        self.b1= np.random.uniform(-1.0,1.0,X.shape[1])\n",
    "        self.b1/=np.linalg.norm(self.b1)\n",
    "        iterations = 0\n",
    "        while True:\n",
    "    \n",
    "            rss0 = -2 * sum(y[i] - (self.b0+self.b1.T.dot(X[i])) for i in range(X.shape[0])) /X.shape[0]\n",
    "            \n",
    "            for j in range(len(self.b1)):\n",
    "                rss1 = -2 * sum( X[i,j] * (y[i]- ( self.b0+ self.b1.dot(X[i] )) ) + 2*self.lmbda*self.b1[j] \\\n",
    "                                for i in range(X.shape[0])) /X.shape[0]\n",
    "                self.b1[j] -= self.lr * rss1\n",
    "            self.b1/=np.linalg.norm(self.b1)\n",
    "            self.b0-=self.lr*rss0\n",
    "            if iterations % 10 == 0:\n",
    "                rr2 = self.score(X,y)\n",
    "\n",
    "            if np.fabs(rr2-self.r2) < self.error_margin:\n",
    "                break\n",
    "            self.r2=rr2\n",
    "            iterations+=1\n",
    "\n",
    "    def predict(self, X):\n",
    "        return np.repeat(self.b0,X.shape[0])+X.dot(self.b1)\n",
    "\n",
    "    def get_params(self, deep=True):\n",
    "        return {\"lmbda\": self.lmbda}\n",
    "\n",
    "    def set_params(self, lmbda=0.01):\n",
    "        self.lmbda = lmbda\n",
    "        return self\n",
    "    \n",
    "    def score(self, X, y):\n",
    "        mean = y.mean()\n",
    "        TSS = sum ( (y[i] - mean)**2  for i in range(X.shape[0]) )\n",
    "        RSS = sum ( ( y[i] - (self.b0+ self.b1.dot(X[i]) )  ) **2 for i in range(X.shape[0]) )\n",
    "        return ( TSS - RSS ) / TSS"
   ]
  },
  {
   "cell_type": "code",
   "execution_count": 107,
   "metadata": {
    "scrolled": true
   },
   "outputs": [],
   "source": [
    "ridge = RidgeRegressionWithGrad(100)\n",
    "ridge.fit(X_train, y_train)"
   ]
  },
  {
   "cell_type": "code",
   "execution_count": 108,
   "metadata": {},
   "outputs": [
    {
     "name": "stdout",
     "output_type": "stream",
     "text": [
      "-2.066267638797712\n"
     ]
    }
   ],
   "source": [
    "predictions = ridge.predict(X_test)\n",
    "ridge_error = r2_score(y_test, predictions)\n",
    "print(ridge_error)"
   ]
  },
  {
   "cell_type": "code",
   "execution_count": 90,
   "metadata": {},
   "outputs": [
    {
     "name": "stdout",
     "output_type": "stream",
     "text": [
      "0.25272478195695847\n"
     ]
    }
   ],
   "source": [
    "ridge = RidgeRegression()\n",
    "ridge.fit(X_train, y_train)\n",
    "predictions = ridge.predict(X_test)\n",
    "ridge_error = r2_score(y_test, predictions)\n",
    "print(ridge_error)"
   ]
  },
  {
   "cell_type": "code",
   "execution_count": null,
   "metadata": {},
   "outputs": [],
   "source": [
    "#from sklearn.cross_validation import cross_val_score\n",
    "ridge = RidgeRegression()\n",
    "param_grid = [{\"lmbda\": 2.0**np.arange(-5, 10)}]\n",
    "learner = GridSearchCV(ridge, param_grid, scoring=\"neg_mean_absolute_error\", n_jobs=-1, verbose=0)\n",
    "learner.fit(X_train, y_train)\n",
    "\n",
    "predictions = learner.predict(X_test)\n",
    "score = cross_val_score(learner, X, y, scoring='r2')\n",
    "print(score.mean())"
   ]
  },
  {
   "cell_type": "code",
   "execution_count": null,
   "metadata": {},
   "outputs": [],
   "source": [
    "model = LinearRegression()\n",
    "model.fit(X_train, y_train)\n",
    "predictions = model.predict(X_test)\n",
    "ridge_error = r2_score(y_test, predictions)\n",
    "print(ridge_error)"
   ]
  },
  {
   "cell_type": "code",
   "execution_count": null,
   "metadata": {},
   "outputs": [],
   "source": [
    "# Run for different values of lambda \n",
    "lambda_min = -7\n",
    "lambda_max = 7\n",
    "\n",
    "num_lambdas = 15\n",
    "num_predictors = X.shape[1]\n",
    "\n",
    "lambdas= np.linspace(lambda_min,lambda_max, num_lambdas)\n",
    "\n",
    "train_r_squared = np.zeros(num_lambdas)\n",
    "test_r_squared = np.zeros(num_lambdas)\n",
    "\n",
    "coeff_a = np.zeros((num_lambdas, num_predictors))\n",
    "\n",
    "for ind, i in enumerate(lambdas):    \n",
    "    # Fit ridge regression on train set\n",
    "    reg = RidgeRegression(10**i)\n",
    "    reg.fit(X_train, y_train)\n",
    "       \n",
    "    coeff_a[ind,:] = reg.lmbda\n",
    "    # Evaluate train & test performance\n",
    "    train_r_squared[ind] = cross_val_score(learner, X_train, y_train, scoring='r2').mean()\n",
    "    test_r_squared[ind] = cross_val_score(learner, X_test, y_test, scoring='r2').mean()\n",
    "    \n",
    "# Plotting\n",
    "plt.figure(figsize=(18, 8))\n",
    "plt.plot(lambdas, train_r_squared, 'bo-', label=r'$R^2$ Training set', color=\"darkblue\", alpha=0.6, linewidth=3)\n",
    "plt.plot(lambdas, test_r_squared, 'bo-', label=r'$R^2$ Test set', color=\"darkred\", alpha=0.6, linewidth=3)\n",
    "plt.xlabel('Lamda value'); plt.ylabel(r'$R^2$')\n",
    "plt.xlim(lambda_min, lambda_max)\n",
    "plt.title(r'Evaluate ridge regression $R^2$ with different lamdas')\n",
    "plt.legend(loc='best')\n",
    "plt.grid()"
   ]
  },
  {
   "cell_type": "markdown",
   "metadata": {},
   "source": []
  }
 ],
 "metadata": {
  "kernelspec": {
   "display_name": "Python 3",
   "language": "python",
   "name": "python3"
  },
  "language_info": {
   "codemirror_mode": {
    "name": "ipython",
    "version": 3
   },
   "file_extension": ".py",
   "mimetype": "text/x-python",
   "name": "python",
   "nbconvert_exporter": "python",
   "pygments_lexer": "ipython3",
   "version": "3.5.2"
  }
 },
 "nbformat": 4,
 "nbformat_minor": 2
}
